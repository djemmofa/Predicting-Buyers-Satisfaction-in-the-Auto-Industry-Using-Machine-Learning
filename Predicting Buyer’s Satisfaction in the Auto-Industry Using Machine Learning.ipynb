{
 "cells": [
  {
   "cell_type": "markdown",
   "id": "a77af50c",
   "metadata": {},
   "source": [
    "# Business Case"
   ]
  },
  {
   "cell_type": "markdown",
   "id": "e76b4b62",
   "metadata": {},
   "source": [
    "The aim in this project is to build a machine learning model that will help the company to determine ex post if a buyer will be satisfy of its purchase or not.The stakeholders have engaged the analytics team to look for insights on transaction data as well as buyers’ feedback on whether they are satisfied with their purchases.\n",
    "This project will alow stackholders to take corective action before the purchase happened to ensure high buyers' satisfaction, reduce the return rate and them maximize the revenue.\n",
    "The buyers in this case are dealerships (instead of final consumers in retail). "
   ]
  },
  {
   "cell_type": "markdown",
   "id": "e6eea7d1",
   "metadata": {},
   "source": [
    "# Methodologies"
   ]
  },
  {
   "cell_type": "markdown",
   "id": "713333a0",
   "metadata": {},
   "source": [
    "### Machine Learning (ML)"
   ]
  },
  {
   "cell_type": "markdown",
   "id": "8f482592",
   "metadata": {},
   "source": [
    "ML is a subfield of computer science that gives “computers the ability to learn without being explicitly programmed”. \n",
    "It consists of teaching computers to solve problems by looking at hundredth cases, learning from them and using that experience to solve the same problems in the future.\n",
    "There are two type of ML models: Supervised and Unsupervised ML. The main difference between both is that supervised learning deals with labeled data while unsupervised learning deals with unlabeled data.\n",
    "In this case, the data are labelled so we use supervised learning models."
   ]
  },
  {
   "cell_type": "markdown",
   "id": "3a97f92a",
   "metadata": {},
   "source": [
    "### Classification models"
   ]
  },
  {
   "cell_type": "markdown",
   "id": "2c1739b5",
   "metadata": {},
   "source": [
    "Supervised learning can use regression analysis when the predictive variable is continuous or classification models to predict categorical and discrete variables.\n",
    "As our aim in this case is to predict if a buyer will be satify or not, we will use classification models here: Random Forest classifier, Decision tree classifier, k-nearest neighbors and Support Vector Machine."
   ]
  },
  {
   "cell_type": "markdown",
   "id": "e0295f93",
   "metadata": {},
   "source": [
    "# Data Exploration and Transformation"
   ]
  },
  {
   "cell_type": "markdown",
   "id": "757f06f7",
   "metadata": {},
   "source": [
    "To perform our analysis, we were provided with one year of transactions data. \n",
    "The buyers generally use car year, odometer, and \"car_score\" to assess the quality of the cars and the price they’re willing to pay\n",
    "at auction. “Car score” is an algorithmic score based on the car’s condition (exterior, interior, frame, mechanical, tires, etc.)"
   ]
  },
  {
   "cell_type": "code",
   "execution_count": 17,
   "id": "61d39557",
   "metadata": {},
   "outputs": [],
   "source": [
    "# import librairies\n",
    "import numpy as np\n",
    "import pandas as pd\n",
    "import matplotlib.pyplot as plt\n",
    "import seaborn as sns"
   ]
  },
  {
   "cell_type": "code",
   "execution_count": 18,
   "id": "0e0eeaea",
   "metadata": {},
   "outputs": [],
   "source": [
    "#import the dataset\n",
    "df=pd.read_csv(\"C:/Users/djema/OneDrive/Desktop/Tableau/Case Study Buyer Satisfaction data.csv\")"
   ]
  },
  {
   "cell_type": "code",
   "execution_count": 19,
   "id": "f4e14bcb",
   "metadata": {},
   "outputs": [
    {
     "data": {
      "text/html": [
       "<div>\n",
       "<style scoped>\n",
       "    .dataframe tbody tr th:only-of-type {\n",
       "        vertical-align: middle;\n",
       "    }\n",
       "\n",
       "    .dataframe tbody tr th {\n",
       "        vertical-align: top;\n",
       "    }\n",
       "\n",
       "    .dataframe thead th {\n",
       "        text-align: right;\n",
       "    }\n",
       "</style>\n",
       "<table border=\"1\" class=\"dataframe\">\n",
       "  <thead>\n",
       "    <tr style=\"text-align: right;\">\n",
       "      <th></th>\n",
       "      <th>TransactionID</th>\n",
       "      <th>PurchaseDate</th>\n",
       "      <th>AdditionalService</th>\n",
       "      <th>ChannelType</th>\n",
       "      <th>SaleType</th>\n",
       "      <th>CarYear</th>\n",
       "      <th>CarOdometer</th>\n",
       "      <th>CarScore</th>\n",
       "      <th>Price</th>\n",
       "      <th>BuyerFeedback</th>\n",
       "      <th>CarScore_Cleaned</th>\n",
       "      <th>Unnamed: 11</th>\n",
       "      <th>Unnamed: 12</th>\n",
       "    </tr>\n",
       "  </thead>\n",
       "  <tbody>\n",
       "    <tr>\n",
       "      <th>0</th>\n",
       "      <td>56244</td>\n",
       "      <td>1/2/2018</td>\n",
       "      <td>N</td>\n",
       "      <td>Hybrid</td>\n",
       "      <td>Regular</td>\n",
       "      <td>2014</td>\n",
       "      <td>34088</td>\n",
       "      <td>86.0</td>\n",
       "      <td>14450</td>\n",
       "      <td>Satisfied</td>\n",
       "      <td>86</td>\n",
       "      <td>NaN</td>\n",
       "      <td>NaN</td>\n",
       "    </tr>\n",
       "    <tr>\n",
       "      <th>1</th>\n",
       "      <td>45043</td>\n",
       "      <td>1/2/2018</td>\n",
       "      <td>N</td>\n",
       "      <td>Hybrid</td>\n",
       "      <td>Regular</td>\n",
       "      <td>2012</td>\n",
       "      <td>88799</td>\n",
       "      <td>84.0</td>\n",
       "      <td>10710</td>\n",
       "      <td>Satisfied</td>\n",
       "      <td>84</td>\n",
       "      <td>NaN</td>\n",
       "      <td>NaN</td>\n",
       "    </tr>\n",
       "    <tr>\n",
       "      <th>2</th>\n",
       "      <td>47033</td>\n",
       "      <td>1/2/2018</td>\n",
       "      <td>N</td>\n",
       "      <td>Hybrid</td>\n",
       "      <td>Regular</td>\n",
       "      <td>2015</td>\n",
       "      <td>43772</td>\n",
       "      <td>82.0</td>\n",
       "      <td>16320</td>\n",
       "      <td>Satisfied</td>\n",
       "      <td>82</td>\n",
       "      <td>NaN</td>\n",
       "      <td>Mode CarScore</td>\n",
       "    </tr>\n",
       "    <tr>\n",
       "      <th>3</th>\n",
       "      <td>4959</td>\n",
       "      <td>1/2/2018</td>\n",
       "      <td>N</td>\n",
       "      <td>Hybrid</td>\n",
       "      <td>Regular</td>\n",
       "      <td>2011</td>\n",
       "      <td>104539</td>\n",
       "      <td>54.0</td>\n",
       "      <td>14238</td>\n",
       "      <td>Satisfied</td>\n",
       "      <td>54</td>\n",
       "      <td>NaN</td>\n",
       "      <td>92</td>\n",
       "    </tr>\n",
       "    <tr>\n",
       "      <th>4</th>\n",
       "      <td>9704</td>\n",
       "      <td>1/2/2018</td>\n",
       "      <td>N</td>\n",
       "      <td>Hybrid</td>\n",
       "      <td>Regular</td>\n",
       "      <td>2009</td>\n",
       "      <td>73714</td>\n",
       "      <td>74.0</td>\n",
       "      <td>13940</td>\n",
       "      <td>Satisfied</td>\n",
       "      <td>74</td>\n",
       "      <td>NaN</td>\n",
       "      <td>NaN</td>\n",
       "    </tr>\n",
       "  </tbody>\n",
       "</table>\n",
       "</div>"
      ],
      "text/plain": [
       "   TransactionID PurchaseDate AdditionalService ChannelType SaleType  CarYear  \\\n",
       "0          56244     1/2/2018                 N      Hybrid  Regular     2014   \n",
       "1          45043     1/2/2018                 N      Hybrid  Regular     2012   \n",
       "2          47033     1/2/2018                 N      Hybrid  Regular     2015   \n",
       "3           4959     1/2/2018                 N      Hybrid  Regular     2011   \n",
       "4           9704     1/2/2018                 N      Hybrid  Regular     2009   \n",
       "\n",
       "   CarOdometer  CarScore  Price BuyerFeedback  CarScore_Cleaned  Unnamed: 11  \\\n",
       "0        34088      86.0  14450     Satisfied                86          NaN   \n",
       "1        88799      84.0  10710     Satisfied                84          NaN   \n",
       "2        43772      82.0  16320     Satisfied                82          NaN   \n",
       "3       104539      54.0  14238     Satisfied                54          NaN   \n",
       "4        73714      74.0  13940     Satisfied                74          NaN   \n",
       "\n",
       "     Unnamed: 12  \n",
       "0            NaN  \n",
       "1            NaN  \n",
       "2  Mode CarScore  \n",
       "3             92  \n",
       "4            NaN  "
      ]
     },
     "execution_count": 19,
     "metadata": {},
     "output_type": "execute_result"
    }
   ],
   "source": [
    "df.head()"
   ]
  },
  {
   "cell_type": "code",
   "execution_count": 20,
   "id": "a0697157",
   "metadata": {},
   "outputs": [],
   "source": [
    "#dropping columns, 10 11 and 12\n",
    "df.drop([\"CarScore_Cleaned\", \"Unnamed: 11\", \"Unnamed: 12\"], axis=1, inplace=True)"
   ]
  },
  {
   "cell_type": "code",
   "execution_count": 21,
   "id": "e6a63f8c",
   "metadata": {},
   "outputs": [
    {
     "data": {
      "text/html": [
       "<div>\n",
       "<style scoped>\n",
       "    .dataframe tbody tr th:only-of-type {\n",
       "        vertical-align: middle;\n",
       "    }\n",
       "\n",
       "    .dataframe tbody tr th {\n",
       "        vertical-align: top;\n",
       "    }\n",
       "\n",
       "    .dataframe thead th {\n",
       "        text-align: right;\n",
       "    }\n",
       "</style>\n",
       "<table border=\"1\" class=\"dataframe\">\n",
       "  <thead>\n",
       "    <tr style=\"text-align: right;\">\n",
       "      <th></th>\n",
       "      <th>TransactionID</th>\n",
       "      <th>PurchaseDate</th>\n",
       "      <th>AdditionalService</th>\n",
       "      <th>ChannelType</th>\n",
       "      <th>SaleType</th>\n",
       "      <th>CarYear</th>\n",
       "      <th>CarOdometer</th>\n",
       "      <th>CarScore</th>\n",
       "      <th>Price</th>\n",
       "      <th>BuyerFeedback</th>\n",
       "    </tr>\n",
       "  </thead>\n",
       "  <tbody>\n",
       "    <tr>\n",
       "      <th>0</th>\n",
       "      <td>56244</td>\n",
       "      <td>1/2/2018</td>\n",
       "      <td>N</td>\n",
       "      <td>Hybrid</td>\n",
       "      <td>Regular</td>\n",
       "      <td>2014</td>\n",
       "      <td>34088</td>\n",
       "      <td>86.0</td>\n",
       "      <td>14450</td>\n",
       "      <td>Satisfied</td>\n",
       "    </tr>\n",
       "    <tr>\n",
       "      <th>1</th>\n",
       "      <td>45043</td>\n",
       "      <td>1/2/2018</td>\n",
       "      <td>N</td>\n",
       "      <td>Hybrid</td>\n",
       "      <td>Regular</td>\n",
       "      <td>2012</td>\n",
       "      <td>88799</td>\n",
       "      <td>84.0</td>\n",
       "      <td>10710</td>\n",
       "      <td>Satisfied</td>\n",
       "    </tr>\n",
       "    <tr>\n",
       "      <th>2</th>\n",
       "      <td>47033</td>\n",
       "      <td>1/2/2018</td>\n",
       "      <td>N</td>\n",
       "      <td>Hybrid</td>\n",
       "      <td>Regular</td>\n",
       "      <td>2015</td>\n",
       "      <td>43772</td>\n",
       "      <td>82.0</td>\n",
       "      <td>16320</td>\n",
       "      <td>Satisfied</td>\n",
       "    </tr>\n",
       "    <tr>\n",
       "      <th>3</th>\n",
       "      <td>4959</td>\n",
       "      <td>1/2/2018</td>\n",
       "      <td>N</td>\n",
       "      <td>Hybrid</td>\n",
       "      <td>Regular</td>\n",
       "      <td>2011</td>\n",
       "      <td>104539</td>\n",
       "      <td>54.0</td>\n",
       "      <td>14238</td>\n",
       "      <td>Satisfied</td>\n",
       "    </tr>\n",
       "    <tr>\n",
       "      <th>4</th>\n",
       "      <td>9704</td>\n",
       "      <td>1/2/2018</td>\n",
       "      <td>N</td>\n",
       "      <td>Hybrid</td>\n",
       "      <td>Regular</td>\n",
       "      <td>2009</td>\n",
       "      <td>73714</td>\n",
       "      <td>74.0</td>\n",
       "      <td>13940</td>\n",
       "      <td>Satisfied</td>\n",
       "    </tr>\n",
       "  </tbody>\n",
       "</table>\n",
       "</div>"
      ],
      "text/plain": [
       "   TransactionID PurchaseDate AdditionalService ChannelType SaleType  CarYear  \\\n",
       "0          56244     1/2/2018                 N      Hybrid  Regular     2014   \n",
       "1          45043     1/2/2018                 N      Hybrid  Regular     2012   \n",
       "2          47033     1/2/2018                 N      Hybrid  Regular     2015   \n",
       "3           4959     1/2/2018                 N      Hybrid  Regular     2011   \n",
       "4           9704     1/2/2018                 N      Hybrid  Regular     2009   \n",
       "\n",
       "   CarOdometer  CarScore  Price BuyerFeedback  \n",
       "0        34088      86.0  14450     Satisfied  \n",
       "1        88799      84.0  10710     Satisfied  \n",
       "2        43772      82.0  16320     Satisfied  \n",
       "3       104539      54.0  14238     Satisfied  \n",
       "4        73714      74.0  13940     Satisfied  "
      ]
     },
     "execution_count": 21,
     "metadata": {},
     "output_type": "execute_result"
    }
   ],
   "source": [
    "df.head()"
   ]
  },
  {
   "cell_type": "code",
   "execution_count": 22,
   "id": "dda33b53",
   "metadata": {},
   "outputs": [],
   "source": [
    "#dropping \"TransactionID\"\n",
    "df.drop([\"TransactionID\", \"PurchaseDate\"], axis=1, inplace=True)"
   ]
  },
  {
   "cell_type": "code",
   "execution_count": 23,
   "id": "62640dd3",
   "metadata": {},
   "outputs": [
    {
     "data": {
      "text/html": [
       "<div>\n",
       "<style scoped>\n",
       "    .dataframe tbody tr th:only-of-type {\n",
       "        vertical-align: middle;\n",
       "    }\n",
       "\n",
       "    .dataframe tbody tr th {\n",
       "        vertical-align: top;\n",
       "    }\n",
       "\n",
       "    .dataframe thead th {\n",
       "        text-align: right;\n",
       "    }\n",
       "</style>\n",
       "<table border=\"1\" class=\"dataframe\">\n",
       "  <thead>\n",
       "    <tr style=\"text-align: right;\">\n",
       "      <th></th>\n",
       "      <th>AdditionalService</th>\n",
       "      <th>ChannelType</th>\n",
       "      <th>SaleType</th>\n",
       "      <th>CarYear</th>\n",
       "      <th>CarOdometer</th>\n",
       "      <th>CarScore</th>\n",
       "      <th>Price</th>\n",
       "      <th>BuyerFeedback</th>\n",
       "    </tr>\n",
       "  </thead>\n",
       "  <tbody>\n",
       "    <tr>\n",
       "      <th>0</th>\n",
       "      <td>N</td>\n",
       "      <td>Hybrid</td>\n",
       "      <td>Regular</td>\n",
       "      <td>2014</td>\n",
       "      <td>34088</td>\n",
       "      <td>86.0</td>\n",
       "      <td>14450</td>\n",
       "      <td>Satisfied</td>\n",
       "    </tr>\n",
       "    <tr>\n",
       "      <th>1</th>\n",
       "      <td>N</td>\n",
       "      <td>Hybrid</td>\n",
       "      <td>Regular</td>\n",
       "      <td>2012</td>\n",
       "      <td>88799</td>\n",
       "      <td>84.0</td>\n",
       "      <td>10710</td>\n",
       "      <td>Satisfied</td>\n",
       "    </tr>\n",
       "    <tr>\n",
       "      <th>2</th>\n",
       "      <td>N</td>\n",
       "      <td>Hybrid</td>\n",
       "      <td>Regular</td>\n",
       "      <td>2015</td>\n",
       "      <td>43772</td>\n",
       "      <td>82.0</td>\n",
       "      <td>16320</td>\n",
       "      <td>Satisfied</td>\n",
       "    </tr>\n",
       "    <tr>\n",
       "      <th>3</th>\n",
       "      <td>N</td>\n",
       "      <td>Hybrid</td>\n",
       "      <td>Regular</td>\n",
       "      <td>2011</td>\n",
       "      <td>104539</td>\n",
       "      <td>54.0</td>\n",
       "      <td>14238</td>\n",
       "      <td>Satisfied</td>\n",
       "    </tr>\n",
       "    <tr>\n",
       "      <th>4</th>\n",
       "      <td>N</td>\n",
       "      <td>Hybrid</td>\n",
       "      <td>Regular</td>\n",
       "      <td>2009</td>\n",
       "      <td>73714</td>\n",
       "      <td>74.0</td>\n",
       "      <td>13940</td>\n",
       "      <td>Satisfied</td>\n",
       "    </tr>\n",
       "  </tbody>\n",
       "</table>\n",
       "</div>"
      ],
      "text/plain": [
       "  AdditionalService ChannelType SaleType  CarYear  CarOdometer  CarScore  \\\n",
       "0                 N      Hybrid  Regular     2014        34088      86.0   \n",
       "1                 N      Hybrid  Regular     2012        88799      84.0   \n",
       "2                 N      Hybrid  Regular     2015        43772      82.0   \n",
       "3                 N      Hybrid  Regular     2011       104539      54.0   \n",
       "4                 N      Hybrid  Regular     2009        73714      74.0   \n",
       "\n",
       "   Price BuyerFeedback  \n",
       "0  14450     Satisfied  \n",
       "1  10710     Satisfied  \n",
       "2  16320     Satisfied  \n",
       "3  14238     Satisfied  \n",
       "4  13940     Satisfied  "
      ]
     },
     "execution_count": 23,
     "metadata": {},
     "output_type": "execute_result"
    }
   ],
   "source": [
    "df.head()"
   ]
  },
  {
   "cell_type": "code",
   "execution_count": 24,
   "id": "969b505b",
   "metadata": {},
   "outputs": [
    {
     "data": {
      "text/plain": [
       "(17200, 8)"
      ]
     },
     "execution_count": 24,
     "metadata": {},
     "output_type": "execute_result"
    }
   ],
   "source": [
    "df.shape"
   ]
  },
  {
   "cell_type": "code",
   "execution_count": 25,
   "id": "6e5b06a2",
   "metadata": {},
   "outputs": [
    {
     "data": {
      "text/plain": [
       "Index(['AdditionalService', 'ChannelType', 'SaleType', 'CarYear',\n",
       "       'CarOdometer', 'CarScore', 'Price', 'BuyerFeedback'],\n",
       "      dtype='object')"
      ]
     },
     "execution_count": 25,
     "metadata": {},
     "output_type": "execute_result"
    }
   ],
   "source": [
    "df.columns"
   ]
  },
  {
   "cell_type": "code",
   "execution_count": 26,
   "id": "e0bafcba",
   "metadata": {},
   "outputs": [
    {
     "data": {
      "text/plain": [
       "AdditionalService     object\n",
       "ChannelType           object\n",
       "SaleType              object\n",
       "CarYear                int64\n",
       "CarOdometer            int64\n",
       "CarScore             float64\n",
       "Price                  int64\n",
       "BuyerFeedback         object\n",
       "dtype: object"
      ]
     },
     "execution_count": 26,
     "metadata": {},
     "output_type": "execute_result"
    }
   ],
   "source": [
    "#checking data types\n",
    "df.dtypes"
   ]
  },
  {
   "cell_type": "code",
   "execution_count": 27,
   "id": "afd5c876",
   "metadata": {},
   "outputs": [
    {
     "data": {
      "text/plain": [
       "AdditionalService       0\n",
       "ChannelType             0\n",
       "SaleType                0\n",
       "CarYear                 0\n",
       "CarOdometer             0\n",
       "CarScore             2757\n",
       "Price                   0\n",
       "BuyerFeedback           0\n",
       "dtype: int64"
      ]
     },
     "execution_count": 27,
     "metadata": {},
     "output_type": "execute_result"
    }
   ],
   "source": [
    "#checking for nulls\n",
    "df.isnull().sum()"
   ]
  },
  {
   "cell_type": "code",
   "execution_count": 28,
   "id": "197efc60",
   "metadata": {},
   "outputs": [
    {
     "name": "stderr",
     "output_type": "stream",
     "text": [
      "C:\\Users\\djema\\anaconda3\\lib\\site-packages\\seaborn\\_decorators.py:36: FutureWarning: Pass the following variable as a keyword arg: x. From version 0.12, the only valid positional argument will be `data`, and passing other arguments without an explicit keyword will result in an error or misinterpretation.\n",
      "  warnings.warn(\n"
     ]
    },
    {
     "data": {
      "text/plain": [
       "<AxesSubplot:xlabel='CarScore'>"
      ]
     },
     "execution_count": 28,
     "metadata": {},
     "output_type": "execute_result"
    },
    {
     "data": {
      "image/png": "[encoded data removed]",
      "text/plain": [
       "<Figure size 432x288 with 1 Axes>"
      ]
     },
     "metadata": {
      "needs_background": "light"
     },
     "output_type": "display_data"
    }
   ],
   "source": [
    "# choosing between mean, mode, median to replace null values in CarScore\n",
    "sns.boxplot(df.CarScore)\n"
   ]
  },
  {
   "cell_type": "markdown",
   "id": "380b903c",
   "metadata": {},
   "source": [
    "The distribution of CarScore is very skee to the right with outliers.Outliers will have a significant impact on the mean and hence, in such cases, it is not recommended to use the mean for replacing the missing values. "
   ]
  },
  {
   "cell_type": "code",
   "execution_count": 29,
   "id": "c1a5ee24",
   "metadata": {},
   "outputs": [],
   "source": [
    "# replacing nulls in CarScore with the mode\n",
    "df['CarScore'] = df['CarScore'].fillna(df['CarScore'].mode()[0])"
   ]
  },
  {
   "cell_type": "code",
   "execution_count": 30,
   "id": "6654dfde",
   "metadata": {},
   "outputs": [
    {
     "data": {
      "text/plain": [
       "AdditionalService    0\n",
       "ChannelType          0\n",
       "SaleType             0\n",
       "CarYear              0\n",
       "CarOdometer          0\n",
       "CarScore             0\n",
       "Price                0\n",
       "BuyerFeedback        0\n",
       "dtype: int64"
      ]
     },
     "execution_count": 30,
     "metadata": {},
     "output_type": "execute_result"
    }
   ],
   "source": [
    "#recheking for nulls\n",
    "df.isnull().sum()"
   ]
  },
  {
   "cell_type": "code",
   "execution_count": 31,
   "id": "7b8161fc",
   "metadata": {},
   "outputs": [
    {
     "data": {
      "text/html": [
       "<div>\n",
       "<style scoped>\n",
       "    .dataframe tbody tr th:only-of-type {\n",
       "        vertical-align: middle;\n",
       "    }\n",
       "\n",
       "    .dataframe tbody tr th {\n",
       "        vertical-align: top;\n",
       "    }\n",
       "\n",
       "    .dataframe thead th {\n",
       "        text-align: right;\n",
       "    }\n",
       "</style>\n",
       "<table border=\"1\" class=\"dataframe\">\n",
       "  <thead>\n",
       "    <tr style=\"text-align: right;\">\n",
       "      <th></th>\n",
       "      <th>CarYear</th>\n",
       "      <th>CarOdometer</th>\n",
       "      <th>CarScore</th>\n",
       "      <th>Price</th>\n",
       "    </tr>\n",
       "  </thead>\n",
       "  <tbody>\n",
       "    <tr>\n",
       "      <th>count</th>\n",
       "      <td>17200.000000</td>\n",
       "      <td>17200.000000</td>\n",
       "      <td>17200.000000</td>\n",
       "      <td>17200.000000</td>\n",
       "    </tr>\n",
       "    <tr>\n",
       "      <th>mean</th>\n",
       "      <td>2012.007907</td>\n",
       "      <td>66811.746105</td>\n",
       "      <td>78.358140</td>\n",
       "      <td>18950.450640</td>\n",
       "    </tr>\n",
       "    <tr>\n",
       "      <th>std</th>\n",
       "      <td>3.471068</td>\n",
       "      <td>44915.428412</td>\n",
       "      <td>17.096889</td>\n",
       "      <td>12530.965651</td>\n",
       "    </tr>\n",
       "    <tr>\n",
       "      <th>min</th>\n",
       "      <td>1998.000000</td>\n",
       "      <td>122.000000</td>\n",
       "      <td>0.000000</td>\n",
       "      <td>340.000000</td>\n",
       "    </tr>\n",
       "    <tr>\n",
       "      <th>25%</th>\n",
       "      <td>2010.000000</td>\n",
       "      <td>30642.000000</td>\n",
       "      <td>70.000000</td>\n",
       "      <td>9775.000000</td>\n",
       "    </tr>\n",
       "    <tr>\n",
       "      <th>50%</th>\n",
       "      <td>2013.000000</td>\n",
       "      <td>58751.500000</td>\n",
       "      <td>84.000000</td>\n",
       "      <td>16320.000000</td>\n",
       "    </tr>\n",
       "    <tr>\n",
       "      <th>75%</th>\n",
       "      <td>2014.000000</td>\n",
       "      <td>95495.750000</td>\n",
       "      <td>92.000000</td>\n",
       "      <td>25500.000000</td>\n",
       "    </tr>\n",
       "    <tr>\n",
       "      <th>max</th>\n",
       "      <td>2018.000000</td>\n",
       "      <td>249404.000000</td>\n",
       "      <td>100.000000</td>\n",
       "      <td>84660.000000</td>\n",
       "    </tr>\n",
       "  </tbody>\n",
       "</table>\n",
       "</div>"
      ],
      "text/plain": [
       "            CarYear    CarOdometer      CarScore         Price\n",
       "count  17200.000000   17200.000000  17200.000000  17200.000000\n",
       "mean    2012.007907   66811.746105     78.358140  18950.450640\n",
       "std        3.471068   44915.428412     17.096889  12530.965651\n",
       "min     1998.000000     122.000000      0.000000    340.000000\n",
       "25%     2010.000000   30642.000000     70.000000   9775.000000\n",
       "50%     2013.000000   58751.500000     84.000000  16320.000000\n",
       "75%     2014.000000   95495.750000     92.000000  25500.000000\n",
       "max     2018.000000  249404.000000    100.000000  84660.000000"
      ]
     },
     "execution_count": 31,
     "metadata": {},
     "output_type": "execute_result"
    }
   ],
   "source": [
    "# Descriptive statistics\n",
    "df.describe()"
   ]
  },
  {
   "cell_type": "code",
   "execution_count": 32,
   "id": "7b0cf838",
   "metadata": {},
   "outputs": [
    {
     "name": "stderr",
     "output_type": "stream",
     "text": [
      "C:\\Users\\djema\\anaconda3\\lib\\site-packages\\seaborn\\distributions.py:2619: FutureWarning: `distplot` is a deprecated function and will be removed in a future version. Please adapt your code to use either `displot` (a figure-level function with similar flexibility) or `histplot` (an axes-level function for histograms).\n",
      "  warnings.warn(msg, FutureWarning)\n",
      "C:\\Users\\djema\\anaconda3\\lib\\site-packages\\seaborn\\distributions.py:2619: FutureWarning: `distplot` is a deprecated function and will be removed in a future version. Please adapt your code to use either `displot` (a figure-level function with similar flexibility) or `histplot` (an axes-level function for histograms).\n",
      "  warnings.warn(msg, FutureWarning)\n",
      "C:\\Users\\djema\\anaconda3\\lib\\site-packages\\seaborn\\distributions.py:2619: FutureWarning: `distplot` is a deprecated function and will be removed in a future version. Please adapt your code to use either `displot` (a figure-level function with similar flexibility) or `histplot` (an axes-level function for histograms).\n",
      "  warnings.warn(msg, FutureWarning)\n",
      "C:\\Users\\djema\\anaconda3\\lib\\site-packages\\seaborn\\distributions.py:2619: FutureWarning: `distplot` is a deprecated function and will be removed in a future version. Please adapt your code to use either `displot` (a figure-level function with similar flexibility) or `histplot` (an axes-level function for histograms).\n",
      "  warnings.warn(msg, FutureWarning)\n"
     ]
    },
    {
     "data": {
      "image/png": "[encoded data removed]",
      "text/plain": [
       "<Figure size 432x288 with 1 Axes>"
      ]
     },
     "metadata": {
      "needs_background": "light"
     },
     "output_type": "display_data"
    },
    {
     "data": {
      "image/png": "[encoded data removed]",
      "text/plain": [
       "<Figure size 432x288 with 1 Axes>"
      ]
     },
     "metadata": {
      "needs_background": "light"
     },
     "output_type": "display_data"
    },
    {
     "data": {
      "image/png": "[encoded data removed]",
      "text/plain": [
       "<Figure size 432x288 with 1 Axes>"
      ]
     },
     "metadata": {
      "needs_background": "light"
     },
     "output_type": "display_data"
    },
    {
     "data": {
      "image/png": "[encoded data removed]",
      "text/plain": [
       "<Figure size 432x288 with 1 Axes>"
      ]
     },
     "metadata": {
      "needs_background": "light"
     },
     "output_type": "display_data"
    }
   ],
   "source": [
    "#checking for variables distribution\n",
    "columns = ['CarYear', 'CarOdometer', 'CarScore', 'Price']\n",
    "for i in columns:\n",
    "    plt.figure()\n",
    "    sns.distplot(df[i])"
   ]
  },
  {
   "cell_type": "markdown",
   "id": "62aa3a38",
   "metadata": {},
   "source": [
    "#### Descriptive statistics for categorical variables"
   ]
  },
  {
   "cell_type": "code",
   "execution_count": 38,
   "id": "e33c8d64",
   "metadata": {},
   "outputs": [
    {
     "data": {
      "text/html": [
       "<div>\n",
       "<style scoped>\n",
       "    .dataframe tbody tr th:only-of-type {\n",
       "        vertical-align: middle;\n",
       "    }\n",
       "\n",
       "    .dataframe tbody tr th {\n",
       "        vertical-align: top;\n",
       "    }\n",
       "\n",
       "    .dataframe thead th {\n",
       "        text-align: right;\n",
       "    }\n",
       "</style>\n",
       "<table border=\"1\" class=\"dataframe\">\n",
       "  <thead>\n",
       "    <tr style=\"text-align: right;\">\n",
       "      <th></th>\n",
       "      <th>ChannelType</th>\n",
       "    </tr>\n",
       "  </thead>\n",
       "  <tbody>\n",
       "    <tr>\n",
       "      <th>Hybrid</th>\n",
       "      <td>10684</td>\n",
       "    </tr>\n",
       "    <tr>\n",
       "      <th>Digital</th>\n",
       "      <td>3701</td>\n",
       "    </tr>\n",
       "    <tr>\n",
       "      <th>Pyhsical</th>\n",
       "      <td>2815</td>\n",
       "    </tr>\n",
       "  </tbody>\n",
       "</table>\n",
       "</div>"
      ],
      "text/plain": [
       "          ChannelType\n",
       "Hybrid          10684\n",
       "Digital          3701\n",
       "Pyhsical         2815"
      ]
     },
     "execution_count": 38,
     "metadata": {},
     "output_type": "execute_result"
    }
   ],
   "source": [
    "ChannelType_counts = df['ChannelType'].value_counts().to_frame()\n",
    "ChannelType_counts"
   ]
  },
  {
   "cell_type": "code",
   "execution_count": 52,
   "id": "a7bc643e",
   "metadata": {},
   "outputs": [
    {
     "data": {
      "text/html": [
       "<div>\n",
       "<style scoped>\n",
       "    .dataframe tbody tr th:only-of-type {\n",
       "        vertical-align: middle;\n",
       "    }\n",
       "\n",
       "    .dataframe tbody tr th {\n",
       "        vertical-align: top;\n",
       "    }\n",
       "\n",
       "    .dataframe thead th {\n",
       "        text-align: right;\n",
       "    }\n",
       "</style>\n",
       "<table border=\"1\" class=\"dataframe\">\n",
       "  <thead>\n",
       "    <tr style=\"text-align: right;\">\n",
       "      <th></th>\n",
       "      <th>AdditionalService</th>\n",
       "    </tr>\n",
       "  </thead>\n",
       "  <tbody>\n",
       "    <tr>\n",
       "      <th>N</th>\n",
       "      <td>14545</td>\n",
       "    </tr>\n",
       "    <tr>\n",
       "      <th>Y</th>\n",
       "      <td>2655</td>\n",
       "    </tr>\n",
       "  </tbody>\n",
       "</table>\n",
       "</div>"
      ],
      "text/plain": [
       "   AdditionalService\n",
       "N              14545\n",
       "Y               2655"
      ]
     },
     "execution_count": 52,
     "metadata": {},
     "output_type": "execute_result"
    }
   ],
   "source": [
    "AdditionalService_counts = df['AdditionalService'].value_counts().to_frame()\n",
    "AdditionalService_counts"
   ]
  },
  {
   "cell_type": "code",
   "execution_count": 53,
   "id": "f4e1dd91",
   "metadata": {},
   "outputs": [
    {
     "data": {
      "text/html": [
       "<div>\n",
       "<style scoped>\n",
       "    .dataframe tbody tr th:only-of-type {\n",
       "        vertical-align: middle;\n",
       "    }\n",
       "\n",
       "    .dataframe tbody tr th {\n",
       "        vertical-align: top;\n",
       "    }\n",
       "\n",
       "    .dataframe thead th {\n",
       "        text-align: right;\n",
       "    }\n",
       "</style>\n",
       "<table border=\"1\" class=\"dataframe\">\n",
       "  <thead>\n",
       "    <tr style=\"text-align: right;\">\n",
       "      <th></th>\n",
       "      <th>SaleType</th>\n",
       "    </tr>\n",
       "  </thead>\n",
       "  <tbody>\n",
       "    <tr>\n",
       "      <th>Regular</th>\n",
       "      <td>14679</td>\n",
       "    </tr>\n",
       "    <tr>\n",
       "      <th>As-Is</th>\n",
       "      <td>2521</td>\n",
       "    </tr>\n",
       "  </tbody>\n",
       "</table>\n",
       "</div>"
      ],
      "text/plain": [
       "         SaleType\n",
       "Regular     14679\n",
       "As-Is        2521"
      ]
     },
     "execution_count": 53,
     "metadata": {},
     "output_type": "execute_result"
    }
   ],
   "source": [
    "SaleType_counts = df['SaleType'].value_counts().to_frame()\n",
    "SaleType_counts"
   ]
  },
  {
   "cell_type": "markdown",
   "id": "db2f8388",
   "metadata": {},
   "source": [
    "### Transforming Categorical Variables into Numeric Variables"
   ]
  },
  {
   "cell_type": "code",
   "execution_count": 33,
   "id": "e9c0bc12",
   "metadata": {},
   "outputs": [],
   "source": [
    "# package import\n",
    "from sklearn.preprocessing import OneHotEncoder\n",
    "from sklearn.preprocessing import LabelEncoder"
   ]
  },
  {
   "cell_type": "code",
   "execution_count": 34,
   "id": "4339d6c6",
   "metadata": {},
   "outputs": [
    {
     "data": {
      "text/html": [
       "<div>\n",
       "<style scoped>\n",
       "    .dataframe tbody tr th:only-of-type {\n",
       "        vertical-align: middle;\n",
       "    }\n",
       "\n",
       "    .dataframe tbody tr th {\n",
       "        vertical-align: top;\n",
       "    }\n",
       "\n",
       "    .dataframe thead th {\n",
       "        text-align: right;\n",
       "    }\n",
       "</style>\n",
       "<table border=\"1\" class=\"dataframe\">\n",
       "  <thead>\n",
       "    <tr style=\"text-align: right;\">\n",
       "      <th></th>\n",
       "      <th>AdditionalService</th>\n",
       "      <th>ChannelType</th>\n",
       "      <th>SaleType</th>\n",
       "      <th>CarYear</th>\n",
       "      <th>CarOdometer</th>\n",
       "      <th>CarScore</th>\n",
       "      <th>Price</th>\n",
       "      <th>BuyerFeedback</th>\n",
       "    </tr>\n",
       "  </thead>\n",
       "  <tbody>\n",
       "    <tr>\n",
       "      <th>0</th>\n",
       "      <td>N</td>\n",
       "      <td>Hybrid</td>\n",
       "      <td>Regular</td>\n",
       "      <td>2014</td>\n",
       "      <td>34088</td>\n",
       "      <td>86.0</td>\n",
       "      <td>14450</td>\n",
       "      <td>Satisfied</td>\n",
       "    </tr>\n",
       "    <tr>\n",
       "      <th>1</th>\n",
       "      <td>N</td>\n",
       "      <td>Hybrid</td>\n",
       "      <td>Regular</td>\n",
       "      <td>2012</td>\n",
       "      <td>88799</td>\n",
       "      <td>84.0</td>\n",
       "      <td>10710</td>\n",
       "      <td>Satisfied</td>\n",
       "    </tr>\n",
       "    <tr>\n",
       "      <th>2</th>\n",
       "      <td>N</td>\n",
       "      <td>Hybrid</td>\n",
       "      <td>Regular</td>\n",
       "      <td>2015</td>\n",
       "      <td>43772</td>\n",
       "      <td>82.0</td>\n",
       "      <td>16320</td>\n",
       "      <td>Satisfied</td>\n",
       "    </tr>\n",
       "    <tr>\n",
       "      <th>3</th>\n",
       "      <td>N</td>\n",
       "      <td>Hybrid</td>\n",
       "      <td>Regular</td>\n",
       "      <td>2011</td>\n",
       "      <td>104539</td>\n",
       "      <td>54.0</td>\n",
       "      <td>14238</td>\n",
       "      <td>Satisfied</td>\n",
       "    </tr>\n",
       "    <tr>\n",
       "      <th>4</th>\n",
       "      <td>N</td>\n",
       "      <td>Hybrid</td>\n",
       "      <td>Regular</td>\n",
       "      <td>2009</td>\n",
       "      <td>73714</td>\n",
       "      <td>74.0</td>\n",
       "      <td>13940</td>\n",
       "      <td>Satisfied</td>\n",
       "    </tr>\n",
       "  </tbody>\n",
       "</table>\n",
       "</div>"
      ],
      "text/plain": [
       "  AdditionalService ChannelType SaleType  CarYear  CarOdometer  CarScore  \\\n",
       "0                 N      Hybrid  Regular     2014        34088      86.0   \n",
       "1                 N      Hybrid  Regular     2012        88799      84.0   \n",
       "2                 N      Hybrid  Regular     2015        43772      82.0   \n",
       "3                 N      Hybrid  Regular     2011       104539      54.0   \n",
       "4                 N      Hybrid  Regular     2009        73714      74.0   \n",
       "\n",
       "   Price BuyerFeedback  \n",
       "0  14450     Satisfied  \n",
       "1  10710     Satisfied  \n",
       "2  16320     Satisfied  \n",
       "3  14238     Satisfied  \n",
       "4  13940     Satisfied  "
      ]
     },
     "execution_count": 34,
     "metadata": {},
     "output_type": "execute_result"
    }
   ],
   "source": [
    "df.head()"
   ]
  },
  {
   "cell_type": "code",
   "execution_count": 36,
   "id": "4271a5a7",
   "metadata": {},
   "outputs": [],
   "source": [
    "# create sklearn array for label encoding\n",
    "AdditionalService=df.iloc[:, 1:2].values\n",
    "ChannelType=df.iloc[:, 4:5].values\n",
    "SaleType = df.iloc[:, 6:7]"
   ]
  },
  {
   "cell_type": "code",
   "execution_count": 37,
   "id": "9256897f",
   "metadata": {},
   "outputs": [],
   "source": [
    "# Label encoding\n",
    "le = LabelEncoder()\n",
    "\n",
    "df[\"AdditionalService\"] = le.fit_transform(df[\"AdditionalService\"])\n",
    "df[\"ChannelType\"] = le.fit_transform(df[\"ChannelType\"])\n",
    "df[\"SaleType\"] = le.fit_transform(df[\"SaleType\"])"
   ]
  },
  {
   "cell_type": "code",
   "execution_count": 38,
   "id": "0ad8548f",
   "metadata": {},
   "outputs": [
    {
     "data": {
      "text/html": [
       "<div>\n",
       "<style scoped>\n",
       "    .dataframe tbody tr th:only-of-type {\n",
       "        vertical-align: middle;\n",
       "    }\n",
       "\n",
       "    .dataframe tbody tr th {\n",
       "        vertical-align: top;\n",
       "    }\n",
       "\n",
       "    .dataframe thead th {\n",
       "        text-align: right;\n",
       "    }\n",
       "</style>\n",
       "<table border=\"1\" class=\"dataframe\">\n",
       "  <thead>\n",
       "    <tr style=\"text-align: right;\">\n",
       "      <th></th>\n",
       "      <th>AdditionalService</th>\n",
       "      <th>ChannelType</th>\n",
       "      <th>SaleType</th>\n",
       "      <th>CarYear</th>\n",
       "      <th>CarOdometer</th>\n",
       "      <th>CarScore</th>\n",
       "      <th>Price</th>\n",
       "      <th>BuyerFeedback</th>\n",
       "    </tr>\n",
       "  </thead>\n",
       "  <tbody>\n",
       "    <tr>\n",
       "      <th>0</th>\n",
       "      <td>0</td>\n",
       "      <td>1</td>\n",
       "      <td>1</td>\n",
       "      <td>2014</td>\n",
       "      <td>34088</td>\n",
       "      <td>86.0</td>\n",
       "      <td>14450</td>\n",
       "      <td>Satisfied</td>\n",
       "    </tr>\n",
       "    <tr>\n",
       "      <th>1</th>\n",
       "      <td>0</td>\n",
       "      <td>1</td>\n",
       "      <td>1</td>\n",
       "      <td>2012</td>\n",
       "      <td>88799</td>\n",
       "      <td>84.0</td>\n",
       "      <td>10710</td>\n",
       "      <td>Satisfied</td>\n",
       "    </tr>\n",
       "    <tr>\n",
       "      <th>2</th>\n",
       "      <td>0</td>\n",
       "      <td>1</td>\n",
       "      <td>1</td>\n",
       "      <td>2015</td>\n",
       "      <td>43772</td>\n",
       "      <td>82.0</td>\n",
       "      <td>16320</td>\n",
       "      <td>Satisfied</td>\n",
       "    </tr>\n",
       "    <tr>\n",
       "      <th>3</th>\n",
       "      <td>0</td>\n",
       "      <td>1</td>\n",
       "      <td>1</td>\n",
       "      <td>2011</td>\n",
       "      <td>104539</td>\n",
       "      <td>54.0</td>\n",
       "      <td>14238</td>\n",
       "      <td>Satisfied</td>\n",
       "    </tr>\n",
       "    <tr>\n",
       "      <th>4</th>\n",
       "      <td>0</td>\n",
       "      <td>1</td>\n",
       "      <td>1</td>\n",
       "      <td>2009</td>\n",
       "      <td>73714</td>\n",
       "      <td>74.0</td>\n",
       "      <td>13940</td>\n",
       "      <td>Satisfied</td>\n",
       "    </tr>\n",
       "  </tbody>\n",
       "</table>\n",
       "</div>"
      ],
      "text/plain": [
       "   AdditionalService  ChannelType  SaleType  CarYear  CarOdometer  CarScore  \\\n",
       "0                  0            1         1     2014        34088      86.0   \n",
       "1                  0            1         1     2012        88799      84.0   \n",
       "2                  0            1         1     2015        43772      82.0   \n",
       "3                  0            1         1     2011       104539      54.0   \n",
       "4                  0            1         1     2009        73714      74.0   \n",
       "\n",
       "   Price BuyerFeedback  \n",
       "0  14450     Satisfied  \n",
       "1  10710     Satisfied  \n",
       "2  16320     Satisfied  \n",
       "3  14238     Satisfied  \n",
       "4  13940     Satisfied  "
      ]
     },
     "execution_count": 38,
     "metadata": {},
     "output_type": "execute_result"
    }
   ],
   "source": [
    "df.head()"
   ]
  },
  {
   "cell_type": "markdown",
   "id": "4f8d71f9",
   "metadata": {},
   "source": [
    "# Model Development"
   ]
  },
  {
   "cell_type": "markdown",
   "id": "b7b427c4",
   "metadata": {},
   "source": [
    "As we are predicting a categorical variable (Buyer's Satisfaction), the following supervised learning model will be developed:Random Forest classifier, Decision tree classifier, k-nearest neighbors. The best model will be recommendated to predicting Buyer's satifaction in the autoindustry."
   ]
  },
  {
   "cell_type": "markdown",
   "id": "ce63243b",
   "metadata": {},
   "source": [
    "### Data Preprocessing"
   ]
  },
  {
   "cell_type": "code",
   "execution_count": 39,
   "id": "3f9019e7",
   "metadata": {},
   "outputs": [
    {
     "data": {
      "text/plain": [
       "0    Satisfied\n",
       "1    Satisfied\n",
       "2    Satisfied\n",
       "3    Satisfied\n",
       "4    Satisfied\n",
       "5    Satisfied\n",
       "6    Satisfied\n",
       "Name: BuyerFeedback, dtype: object"
      ]
     },
     "execution_count": 39,
     "metadata": {},
     "output_type": "execute_result"
    }
   ],
   "source": [
    "X = df[['AdditionalService', 'ChannelType', 'SaleType', 'CarYear', 'CarOdometer', 'CarScore', 'Price',]].values\n",
    "X[0:7]\n",
    "y = df[\"BuyerFeedback\"]\n",
    "y[0:7]"
   ]
  },
  {
   "cell_type": "code",
   "execution_count": 40,
   "id": "09ea8197",
   "metadata": {},
   "outputs": [],
   "source": [
    "# splitting data into test and training tests\n",
    "from sklearn.model_selection import train_test_split\n",
    "X_trainset, X_testset, y_trainset, y_testset = train_test_split(X, y, test_size=0.2, random_state=0)"
   ]
  },
  {
   "cell_type": "code",
   "execution_count": 41,
   "id": "672bd694",
   "metadata": {},
   "outputs": [
    {
     "name": "stdout",
     "output_type": "stream",
     "text": [
      "Shape of X training set(12040, 7) & Size of Y training set (12040,)\n",
      "Shape of X testing set (5160, 7) & Size of Y tresting set(5160,)\n"
     ]
    }
   ],
   "source": [
    "print('Shape of X training set{}'.format(X_trainset.shape), '&', 'Size of Y training set {}'.format(y_trainset.shape))\n",
    "print('Shape of X testing set {}'.format(X_testset.shape), '&', 'Size of Y tresting set{}'.format(y_testset.shape))"
   ]
  },
  {
   "cell_type": "markdown",
   "id": "5ba2dc2d",
   "metadata": {},
   "source": [
    "### Decision Tree Modelling"
   ]
  },
  {
   "cell_type": "code",
   "execution_count": 43,
   "id": "f4e36eda",
   "metadata": {},
   "outputs": [
    {
     "data": {
      "text/plain": [
       "DecisionTreeClassifier(criterion='entropy', max_depth=4)"
      ]
     },
     "execution_count": 43,
     "metadata": {},
     "output_type": "execute_result"
    }
   ],
   "source": [
    "from sklearn.tree import DecisionTreeClassifier\n",
    "DT = DecisionTreeClassifier(criterion=\"entropy\", max_depth = 4)\n",
    "DT.fit(X_trainset,y_trainset)"
   ]
  },
  {
   "cell_type": "code",
   "execution_count": 44,
   "id": "8dbd2d4a",
   "metadata": {},
   "outputs": [],
   "source": [
    "#Prediction\n",
    "predTree = DT.predict(X_testset)"
   ]
  },
  {
   "cell_type": "code",
   "execution_count": 45,
   "id": "d732b38f",
   "metadata": {},
   "outputs": [
    {
     "name": "stdout",
     "output_type": "stream",
     "text": [
      "DecisionTrees's Accuracy:  0.9767441860465116\n"
     ]
    }
   ],
   "source": [
    "# measuring accuracy of the model\n",
    "from sklearn import metrics\n",
    "print(\"DecisionTrees's Accuracy: \", metrics.accuracy_score(y_testset, predTree))"
   ]
  },
  {
   "cell_type": "code",
   "execution_count": 46,
   "id": "cdc8edfb",
   "metadata": {},
   "outputs": [
    {
     "data": {
      "image/png": "[encoded data removed]",
      "text/plain": [
       "<Figure size 432x288 with 1 Axes>"
      ]
     },
     "metadata": {
      "needs_background": "light"
     },
     "output_type": "display_data"
    }
   ],
   "source": [
    "from sklearn import tree\n",
    "tree.plot_tree(DT)\n",
    "plt.show()"
   ]
  },
  {
   "cell_type": "markdown",
   "id": "4f7d30fa",
   "metadata": {},
   "source": [
    "### k-nearest neighbors (KNN) Modelling"
   ]
  },
  {
   "cell_type": "markdown",
   "id": "1eb84e73",
   "metadata": {},
   "source": [
    "KNN is a supervised learning algorithm. Where the data is 'trained' with data points corresponding to their classification. To predict the class of a given data point, it takes into account the classes of the 'K' nearest data points and chooses the class in which the majority of the 'K' nearest data points belong to as the predicted class."
   ]
  },
  {
   "cell_type": "code",
   "execution_count": 48,
   "id": "3b3f282d",
   "metadata": {},
   "outputs": [
    {
     "data": {
      "text/plain": [
       "KNeighborsClassifier()"
      ]
     },
     "execution_count": 48,
     "metadata": {},
     "output_type": "execute_result"
    }
   ],
   "source": [
    "from sklearn.neighbors import KNeighborsClassifier\n",
    "knn = KNeighborsClassifier()\n",
    "knn.fit(X_trainset,y_trainset)"
   ]
  },
  {
   "cell_type": "code",
   "execution_count": 49,
   "id": "491630b2",
   "metadata": {},
   "outputs": [],
   "source": [
    "# knn prediction\n",
    "knn_Pred = knn.predict(X_testset)"
   ]
  },
  {
   "cell_type": "code",
   "execution_count": 53,
   "id": "d07f3565",
   "metadata": {},
   "outputs": [
    {
     "name": "stdout",
     "output_type": "stream",
     "text": [
      "Test set Accuracy:  0.9777131782945736\n"
     ]
    }
   ],
   "source": [
    "# knn prediction evaluation\n",
    "from sklearn import metrics\n",
    "print(\"Test set Accuracy: \", metrics.accuracy_score(y_testset, knn_Pred))"
   ]
  },
  {
   "cell_type": "markdown",
   "id": "fc3b1945",
   "metadata": {},
   "source": [
    "### Random Forest classifier"
   ]
  },
  {
   "cell_type": "markdown",
   "id": "df313f83",
   "metadata": {},
   "source": [
    "Random Forest is a classifier that contains a number of decision trees on various subsets of the\n",
    "given dataset and takes the average to improve the predictive accuracy of that dataset.For classification tasks, the output of the random forest is the class selected by most trees."
   ]
  },
  {
   "cell_type": "code",
   "execution_count": 54,
   "id": "625781af",
   "metadata": {},
   "outputs": [
    {
     "data": {
      "text/plain": [
       "RandomForestClassifier()"
      ]
     },
     "execution_count": 54,
     "metadata": {},
     "output_type": "execute_result"
    }
   ],
   "source": [
    "from sklearn.ensemble import RandomForestClassifier\n",
    "rfc = RandomForestClassifier()\n",
    "rfc.fit(X_trainset,y_trainset)"
   ]
  },
  {
   "cell_type": "code",
   "execution_count": 56,
   "id": "756fbe72",
   "metadata": {},
   "outputs": [],
   "source": [
    "# RFC prediction\n",
    "rfc_pred = rfc.predict(X_testset)"
   ]
  },
  {
   "cell_type": "code",
   "execution_count": 59,
   "id": "5f0f4df2",
   "metadata": {},
   "outputs": [
    {
     "name": "stdout",
     "output_type": "stream",
     "text": [
      " rfc Test set Accuracy:  0.9777131782945736\n"
     ]
    }
   ],
   "source": [
    "# rfc prediction accuracy\n",
    "print(\" rfc Test set Accuracy: \", metrics.accuracy_score(rfc_pred, y_testset))"
   ]
  },
  {
   "cell_type": "markdown",
   "id": "54d7e2df",
   "metadata": {},
   "source": [
    "### Model Evaluation : f1_score"
   ]
  },
  {
   "cell_type": "markdown",
   "id": "c249a4c6",
   "metadata": {},
   "source": [
    "F1-score is one of the most important evaluation metrics in machine learning. It elegantly sums up the predictive performance of a model by combining two otherwise competing metrics — precision and recall. Precision measures how many positives are really positives among all positive predictions.\n",
    "Recall measures among all real positive cases, how many are predicted positive."
   ]
  },
  {
   "cell_type": "code",
   "execution_count": 64,
   "id": "2641dcbf",
   "metadata": {},
   "outputs": [
    {
     "name": "stdout",
     "output_type": "stream",
     "text": [
      "f1 score is for DecisionTree  0.966573772211471\n",
      "f1 score is for KNN  0.966695342380426\n",
      "f1 score is for RandomForest  0.966695342380426\n"
     ]
    }
   ],
   "source": [
    "# f1_score\n",
    "from sklearn.metrics import f1_score\n",
    "print(\"f1 score is for DecisionTree \", f1_score(y_testset, predTree, average='weighted'))\n",
    "print(\"f1 score is for KNN \", f1_score(y_testset, knn_Pred, average='weighted'))\n",
    "print(\"f1 score is for RandomForest \", f1_score(y_testset, rfc_pred, average='weighted'))"
   ]
  },
  {
   "cell_type": "markdown",
   "id": "0cede239",
   "metadata": {},
   "source": [
    "# Conclusion"
   ]
  },
  {
   "cell_type": "markdown",
   "id": "c68ddf9d",
   "metadata": {},
   "source": [
    "The aim in this project is to build a machine learning model that will help the company to determine ex post if a buyer will be satisfy of its purchase or not. Our analysis shows that machine learning model will accuretly predict car buyer's satifaction. With accuracy rates and f1_scores all above 96%, either of the classification models built above will be very effective.Implementing such a model will allow the company to increase buyers' satisfaction, increase customer retention, reduce returns and then increase revenue. Nevertheless, the addition of important cars performance determinants like Make and Model could improve the accuracy of the models."
   ]
  }
 ],
 "metadata": {
  "kernelspec": {
   "display_name": "Python 3 (ipykernel)",
   "language": "python",
   "name": "python3"
  },
  "language_info": {
   "codemirror_mode": {
    "name": "ipython",
    "version": 3
   },
   "file_extension": ".py",
   "mimetype": "text/x-python",
   "name": "python",
   "nbconvert_exporter": "python",
   "pygments_lexer": "ipython3",
   "version": "3.9.12"
  }
 },
 "nbformat": 4,
 "nbformat_minor": 5
}
